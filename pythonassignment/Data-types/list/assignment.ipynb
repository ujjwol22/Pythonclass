{
 "cells": [
  {
   "cell_type": "code",
   "execution_count": 1,
   "metadata": {},
   "outputs": [
    {
     "name": "stdout",
     "output_type": "stream",
     "text": [
      "[29, 13, 6, 56, 10]\n",
      "Python program to interchange first and last elements in a list\n"
     ]
    }
   ],
   "source": [
    "# Python program to interchange first and last elements in a list\n",
    "\n",
    "def interchange(list1):\n",
    "    '''Python program to interchange first and last elements in a list'''\n",
    "    list1[0],list1[-1] = list1[-1],list1[0]\n",
    "    # list at index[0] and list at index[-1] is swaped with list at index[-1] and with list at index[0]\n",
    "    return list1\n",
    "\n",
    "a = interchange(list1 = [10, 13, 6, 56, 29])\n",
    "print(a)\n",
    "print(interchange.__doc__)"
   ]
  },
  {
   "cell_type": "code",
   "execution_count": null,
   "metadata": {},
   "outputs": [],
   "source": []
  },
  {
   "cell_type": "code",
   "execution_count": null,
   "metadata": {},
   "outputs": [],
   "source": []
  }
 ],
 "metadata": {
  "interpreter": {
   "hash": "f9a665eed82786d1db64405b5cfd0f8037f4571b806793cb1072a84e044fc7ff"
  },
  "kernelspec": {
   "display_name": "Python 3.9.6 64-bit",
   "language": "python",
   "name": "python3"
  },
  "language_info": {
   "codemirror_mode": {
    "name": "ipython",
    "version": 3
   },
   "file_extension": ".py",
   "mimetype": "text/x-python",
   "name": "python",
   "nbconvert_exporter": "python",
   "pygments_lexer": "ipython3",
   "version": "3.9.6"
  },
  "orig_nbformat": 4
 },
 "nbformat": 4,
 "nbformat_minor": 2
}
