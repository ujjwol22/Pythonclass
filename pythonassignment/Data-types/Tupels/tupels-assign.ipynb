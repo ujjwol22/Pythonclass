{
 "cells": [
  {
   "cell_type": "code",
   "execution_count": 1,
   "metadata": {},
   "outputs": [
    {
     "name": "stdout",
     "output_type": "stream",
     "text": [
      "size of tuple is 9\n",
      "this function is use to check the length of tuple\n"
     ]
    }
   ],
   "source": [
    "# python program to find a size of Tuple \n",
    "def sizeTuple(x):\n",
    "    '''this function is use to check the length of tuple'''\n",
    "    ans = len(x)\n",
    "    return ans\n",
    "\n",
    "x = (1, 2, 3, 4, 'hello', 'python', 'developers', 10, 20)\n",
    "a = sizeTuple(x)\n",
    "print(f'size of tuple is {a}')\n",
    "print(sizeTuple.__doc__)"
   ]
  },
  {
   "cell_type": "code",
   "execution_count": 1,
   "metadata": {},
   "outputs": [
    {
     "name": "stdout",
     "output_type": "stream",
     "text": [
      "sum of the tuple is 55\n",
      "this function is used to sum up the tuple\n"
     ]
    }
   ],
   "source": [
    "# python program to find the sum of the tuples\n",
    "def sumTuple(a):\n",
    "    '''this function is used to sum up the tuple'''\n",
    "    ans = sum(a)\n",
    "    return ans\n",
    "\n",
    "a = (1, 2, 3, 4, 5, 6, 7, 8, 9, 10)\n",
    "b = sumTuple(a)\n",
    "print(f'sum of the tuple is {b}')\n",
    "print(sumTuple.__doc__)"
   ]
  },
  {
   "cell_type": "code",
   "execution_count": 2,
   "metadata": {},
   "outputs": [
    {
     "name": "stdout",
     "output_type": "stream",
     "text": [
      "orginal tuple is (1, 2, 3, 4, 4)\n",
      "Is tuple distinct?: False\n"
     ]
    }
   ],
   "source": [
    "# python program to test if element inside a tuple is distinct or not?\n",
    "\n",
    "# creating a tuple \n",
    "a = (1, 2, 3, 4, 4)\n",
    "\n",
    "# printing the original tuple \n",
    "print(f'orginal tuple is {str(a)}')\n",
    "\n",
    "# testing if the tuple is distinct or not \n",
    "result = len(set(a)) == len(a) # converting to set because set donsnot allow to repeate the data and again comparing its will check the value of orginal a \n",
    "# set doent alllow ro have a repeated value and while checking the values between string len and orginal a len, string will have less value than orginal a, \n",
    "# and when string value will be equal to orginal a value, it will show 'True' else 'False' \n",
    "\n",
    "# printing the result\n",
    "print(f'Is tuple distinct?: {result}')"
   ]
  }
 ],
 "metadata": {
  "interpreter": {
   "hash": "f9a665eed82786d1db64405b5cfd0f8037f4571b806793cb1072a84e044fc7ff"
  },
  "kernelspec": {
   "display_name": "Python 3.9.6 64-bit",
   "language": "python",
   "name": "python3"
  },
  "language_info": {
   "codemirror_mode": {
    "name": "ipython",
    "version": 3
   },
   "file_extension": ".py",
   "mimetype": "text/x-python",
   "name": "python",
   "nbconvert_exporter": "python",
   "pygments_lexer": "ipython3",
   "version": "3.9.6"
  },
  "orig_nbformat": 4
 },
 "nbformat": 4,
 "nbformat_minor": 2
}
