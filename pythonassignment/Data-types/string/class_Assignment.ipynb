{
 "cells": [
  {
   "cell_type": "code",
   "execution_count": 5,
   "metadata": {},
   "outputs": [
    {
     "name": "stdout",
     "output_type": "stream",
     "text": [
      "lapeN ahtsemaN\n",
      "lapeN ahtsemaN"
     ]
    }
   ],
   "source": [
    "# reverse the words in given string \n",
    "a = input('Enter a string to reverse: ')\n",
    "# print(a[0::-1])\n",
    "# using string clicing method \n",
    "for i in a[::-1]:\n",
    "    print(i, end='')\n",
    "\n",
    "print()\n",
    "# using looping method \n",
    "for i in reversed(a):\n",
    "    print(i, end='')"
   ]
  },
  {
   "cell_type": "code",
   "execution_count": 6,
   "metadata": {},
   "outputs": [
    {
     "name": "stdout",
     "output_type": "stream",
     "text": [
      "string have  14 lenght\n"
     ]
    }
   ],
   "source": [
    "# prython program to find the length if string \n",
    "string_len = input(\"Enter a string to find it's length: \")\n",
    "string_len = len(string_len)\n",
    "print(\"string have \", string_len, 'lenght') \n"
   ]
  },
  {
   "cell_type": "code",
   "execution_count": 7,
   "metadata": {},
   "outputs": [
    {
     "name": "stdout",
     "output_type": "stream",
     "text": [
      "c o u r s l y   N e p a l \n",
      "'coursly Nepal' string have 4 vowel alphabates\n"
     ]
    }
   ],
   "source": [
    "# program to count number of vowels in string \n",
    "def vowel():\n",
    "    vow = input('Enter a string: ')\n",
    "    count = 0\n",
    "    for i, v in enumerate(vow):\n",
    "        print(v, end= ' ')\n",
    "        if v == 'a' or v == 'e' or v == 'i' or v == 'o' or v == 'u':\n",
    "            count += 1\n",
    "    print()\n",
    "    print(f'{repr(vow)} string have {count} vowel alphabates') \n",
    "\n",
    "vowel()"
   ]
  },
  {
   "cell_type": "code",
   "execution_count": 9,
   "metadata": {},
   "outputs": [
    {
     "name": "stdout",
     "output_type": "stream",
     "text": [
      "joinging the string by ,: this line,which is,splited in various block,and,is going to join,by,comma using join function,of string\n"
     ]
    }
   ],
   "source": [
    "# program to split and join a string \n",
    "line = ('this line  which is  splited in various block  and  is going to join  by  comma using join function  of string')\n",
    "line = line.split('  ')\n",
    "join = input('Enter a special character that i want to join with: ')\n",
    "x = join.join(line)\n",
    "print(f'joinging the string by {join}: {x}')"
   ]
  }
 ],
 "metadata": {
  "interpreter": {
   "hash": "f9a665eed82786d1db64405b5cfd0f8037f4571b806793cb1072a84e044fc7ff"
  },
  "kernelspec": {
   "display_name": "Python 3.9.6 64-bit",
   "language": "python",
   "name": "python3"
  },
  "language_info": {
   "codemirror_mode": {
    "name": "ipython",
    "version": 3
   },
   "file_extension": ".py",
   "mimetype": "text/x-python",
   "name": "python",
   "nbconvert_exporter": "python",
   "pygments_lexer": "ipython3",
   "version": "3.9.6"
  },
  "orig_nbformat": 4
 },
 "nbformat": 4,
 "nbformat_minor": 2
}
