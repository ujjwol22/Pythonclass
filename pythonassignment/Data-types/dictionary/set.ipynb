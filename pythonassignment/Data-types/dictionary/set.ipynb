{
 "cells": [
  {
   "cell_type": "code",
   "execution_count": 1,
   "metadata": {},
   "outputs": [
    {
     "name": "stdout",
     "output_type": "stream",
     "text": [
      "1\n",
      "4\n",
      "5\n",
      "6\n",
      "7\n",
      "8\n",
      "9\n",
      "\n",
      "D n r l y e H s h v P t p o "
     ]
    }
   ],
   "source": [
    "#  python program to demostrate the iteration over the set in python \n",
    "\n",
    "# iterating over the numbers \n",
    "def num(set1):\n",
    "    for i in set1:\n",
    "        print(i)\n",
    "\n",
    "set1 = {1, 4, 5, 6, 7, 8, 9}\n",
    "num(set1)\n",
    "\n",
    "# iterating over the string\n",
    "print()\n",
    "def ch(set2):\n",
    "    for i in set2:\n",
    "        print(i, end=' ')\n",
    "\n",
    "set2 = set('HelloPythonDevelopers')\n",
    "ch(set2)"
   ]
  },
  {
   "cell_type": "code",
   "execution_count": 2,
   "metadata": {},
   "outputs": [
    {
     "name": "stdout",
     "output_type": "stream",
     "text": [
      "The max number is: 25\n",
      "The min number is: 1\n"
     ]
    }
   ],
   "source": [
    "# program to find maximum and minimum in set \n",
    "\n",
    "def min_set(min_1):\n",
    "    return max(min_1)\n",
    "\n",
    "min_1 = (1, 5, 4, 6, 7, 10, 25)\n",
    "b = min_set(min_1)\n",
    "print(f'The max number is: {b}')\n",
    "\n",
    "\n",
    "def max_set(max_1):\n",
    "    return min(max_1)\n",
    "\n",
    "max_1 = {1, 4, 7, 8, 6, 3, 2}\n",
    "a = max_set(max_1)\n",
    "print(f'The min number is: {a}')"
   ]
  },
  {
   "cell_type": "code",
   "execution_count": 3,
   "metadata": {},
   "outputs": [
    {
     "name": "stdout",
     "output_type": "stream",
     "text": [
      "<class 'set'>\n",
      "{'g', 'c', 'e', 'h', 'f', 'a', 'd', 'b'}\n",
      "<class 'str'>\n",
      "{'g', 'c', 'e', 'h', 'f', 'a', 'd', 'b'}\n"
     ]
    }
   ],
   "source": [
    "# python program to convert set in to string \n",
    "def set_to_str(a):\n",
    "    print(type(a))\n",
    "    print(a)\n",
    "\n",
    "    # converting to string \n",
    "    a = str(a)\n",
    "    print(type(a))\n",
    "    print(a)\n",
    "\n",
    "a = {'a', 'b', 'c', 'd', 'd', 'e', 'f', 'g', 'h'}\n",
    "set_to_str(a)"
   ]
  },
  {
   "cell_type": "code",
   "execution_count": 4,
   "metadata": {},
   "outputs": [
    {
     "name": "stdout",
     "output_type": "stream",
     "text": [
      "{1, 4, 5, 'converstion', 'set'}\n",
      "<class 'set'>\n",
      "\n",
      "(1, 4, 5, 'converstion', 'set')\n",
      "<class 'tuple'>\n",
      "\n",
      "(1, 2, 3, 4, 5)\n",
      "<class 'tuple'>\n",
      "\n",
      "{1, 2, 3, 4, 5}\n",
      "<class 'set'>\n"
     ]
    }
   ],
   "source": [
    "# python program to convert set in tuple and tuple into set\n",
    "\n",
    "def set_tuple(a):\n",
    "    '''the function will convert set in to tuple'''\n",
    "    print(a)\n",
    "    print(type(a))\n",
    "\n",
    "    # typecasting to tuple \n",
    "    print()\n",
    "    a = tuple(a)\n",
    "    print(a)\n",
    "    print(type(a))\n",
    "\n",
    "a = {'set', 'converstion', 1, 4,5}\n",
    "set_tuple(a)\n",
    "\n",
    "print()\n",
    "def tuple_set(b):\n",
    "    '''the function will convert tuple to set'''\n",
    "    print(b)\n",
    "    print(type(b))\n",
    "     \n",
    "    # type casting to set\n",
    "    print()\n",
    "    b = set(b)\n",
    "    print(b)\n",
    "    print(type(b)) \n",
    "\n",
    "b = 1, 2, 3, 4, 5\n",
    "tuple_set(b)"
   ]
  },
  {
   "cell_type": "code",
   "execution_count": null,
   "metadata": {},
   "outputs": [],
   "source": []
  },
  {
   "cell_type": "code",
   "execution_count": null,
   "metadata": {},
   "outputs": [],
   "source": []
  }
 ],
 "metadata": {
  "interpreter": {
   "hash": "f9a665eed82786d1db64405b5cfd0f8037f4571b806793cb1072a84e044fc7ff"
  },
  "kernelspec": {
   "display_name": "Python 3.9.6 64-bit",
   "language": "python",
   "name": "python3"
  },
  "language_info": {
   "codemirror_mode": {
    "name": "ipython",
    "version": 3
   },
   "file_extension": ".py",
   "mimetype": "text/x-python",
   "name": "python",
   "nbconvert_exporter": "python",
   "pygments_lexer": "ipython3",
   "version": "3.9.6"
  },
  "orig_nbformat": 4
 },
 "nbformat": 4,
 "nbformat_minor": 2
}
