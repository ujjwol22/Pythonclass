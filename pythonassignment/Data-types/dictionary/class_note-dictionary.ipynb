{
 "cells": [
  {
   "cell_type": "code",
   "execution_count": 1,
   "metadata": {},
   "outputs": [
    {
     "name": "stdout",
     "output_type": "stream",
     "text": [
      "{'key1': 'value1', 'key2': 'value2', 'key3': 'value3'}\n",
      "value1\n"
     ]
    }
   ],
   "source": [
    "d = {'key1':'value1', 'key2':'value2', 'key3':'value3'}\n",
    "print(d)\n",
    "\n",
    "# print(d[0]) # error \n",
    "print(d['key1']) # return a value of key1"
   ]
  },
  {
   "cell_type": "code",
   "execution_count": 2,
   "metadata": {},
   "outputs": [
    {
     "name": "stdout",
     "output_type": "stream",
     "text": [
      "{}\n",
      "<class 'dict'>\n"
     ]
    }
   ],
   "source": [
    "d = {}\n",
    "print(d)\n",
    "print(type(d))"
   ]
  },
  {
   "cell_type": "code",
   "execution_count": 3,
   "metadata": {},
   "outputs": [
    {
     "name": "stdout",
     "output_type": "stream",
     "text": [
      "{0: 'a', 1: 'python', 2: 'learning'}\n"
     ]
    }
   ],
   "source": [
    "# adding \n",
    "d = {}\n",
    "d[0] = 'a'\n",
    "d[1] = 'python'\n",
    "d[2] = 'learning'\n",
    "print(d)"
   ]
  },
  {
   "cell_type": "code",
   "execution_count": 4,
   "metadata": {},
   "outputs": [
    {
     "name": "stdout",
     "output_type": "stream",
     "text": [
      "{0: 'a', 1: 'python', 2: 'learning', 'key': (1, 2, 3)}\n",
      "{0: 'a', 1: 'python', 2: 'learning', 'key': (1, 2, 3), 'new_key': {'a': 'python', 'b': 'learnig'}}\n"
     ]
    },
    {
     "data": {
      "text/plain": [
       "{'a': 'python', 'b': 'learnig'}"
      ]
     },
     "execution_count": 4,
     "metadata": {},
     "output_type": "execute_result"
    }
   ],
   "source": [
    "# makes an tuple \n",
    "d['key'] = 1,2,3\n",
    "print(d)\n",
    "\n",
    "d['new_key'] = {'a':'python', 'b':'learnig'}\n",
    "print(d)\n",
    "\n",
    "d['new_key'] # pass the value that is in new_key"
   ]
  },
  {
   "cell_type": "code",
   "execution_count": 5,
   "metadata": {},
   "outputs": [
    {
     "name": "stdout",
     "output_type": "stream",
     "text": [
      "(1, 2, 3)\n"
     ]
    }
   ],
   "source": [
    "# using get mathod \n",
    "print(d.get('key')) # pass the value that is in key"
   ]
  },
  {
   "cell_type": "code",
   "execution_count": 6,
   "metadata": {},
   "outputs": [
    {
     "name": "stdout",
     "output_type": "stream",
     "text": [
      "learnig\n"
     ]
    }
   ],
   "source": [
    "# accessing the elements of nested dictionary \n",
    "print(d['new_key']['b']) # nested "
   ]
  },
  {
   "cell_type": "code",
   "execution_count": 7,
   "metadata": {},
   "outputs": [
    {
     "name": "stdout",
     "output_type": "stream",
     "text": [
      "a\n"
     ]
    }
   ],
   "source": [
    "print(d[0])\n",
    "del d[0]"
   ]
  },
  {
   "cell_type": "code",
   "execution_count": 8,
   "metadata": {},
   "outputs": [
    {
     "name": "stdout",
     "output_type": "stream",
     "text": [
      "{}\n",
      "{1: 'python', 2: 'javascript', 3: 'Reactjs', 4: 'C++'}\n",
      "{1: 'python', 2: 'C++', 3: 'ReactJS'}\n",
      "{'a': 1, 'b': 2, 'c': 3}\n",
      "{1: 'python', 2: 'C++', 3: 'Js'}\n"
     ]
    }
   ],
   "source": [
    "# creating a dictionary \n",
    "d = {}\n",
    "print(d)\n",
    "\n",
    "# creating dictionary with integer keys\n",
    "Dict = {1:'python', 2:'javascript', 3: 'Reactjs', 4:'C++'}\n",
    "print(Dict)\n",
    "\n",
    "# creating a dictionaru with dict method \n",
    "d = {1:'python', 2:'C++', 3:\"ReactJS\"}\n",
    "d1 = dict(d)\n",
    "print(d1)\n",
    "\n",
    "d2 = dict(a = 1, b = 2, c = 3)\n",
    "print(d2)\n",
    "\n",
    "# creating dictioary with each items as a pair \n",
    "d = dict([(1,'python'), (2, 'C++'), (3, 'Js')])\n",
    "print(d)"
   ]
  },
  {
   "cell_type": "code",
   "execution_count": 9,
   "metadata": {},
   "outputs": [
    {
     "name": "stdout",
     "output_type": "stream",
     "text": [
      "{1: 'python', 2: 'ReactJs', 3: {'A': 'hello', 'B': 'C++'}}\n",
      "\n",
      "{1: 'python', 2: 'C++', 3: 'ReactJs'}\n"
     ]
    }
   ],
   "source": [
    "# nested Dictionary \n",
    "d = {1:'python', 2:'ReactJs', 3:{'A':\"hello\", 'B':\"C++\"}}\n",
    "print(d)\n",
    "\n",
    "print()\n",
    "d2 = dict([(1, 'python'), (2, 'C++'), (3, 'ReactJs')])\n",
    "print(d2)"
   ]
  },
  {
   "cell_type": "code",
   "execution_count": 10,
   "metadata": {},
   "outputs": [
    {
     "name": "stdout",
     "output_type": "stream",
     "text": [
      "{0: 'python', 1: 'java', 2: 1}\n",
      "{0: 'python', 1: 'java', 2: 1, 'value_set': (2, 3, 4)}\n",
      "{0: 'python', 1: 'java', 2: 'welcome', 'value_set': (2, 3, 4)}\n",
      "Adding nested value: \n",
      "{0: 'python', 1: 'java', 2: 'welcome', 'value_set': (2, 3, 4), 5: {'netsed': {'1': 'hello', '2': 'world'}}}\n"
     ]
    }
   ],
   "source": [
    "# creating empty dictionary \n",
    "d = {}\n",
    "\n",
    "# adding elements one at a time\n",
    "d[0] = 'python'\n",
    "d[1] = 'java'\n",
    "d[2] = 1\n",
    "\n",
    "print(d)\n",
    "\n",
    "# Adding set of value to single keys \n",
    "d['value_set'] = 2, 3, 4\n",
    "print(d)\n",
    "\n",
    "# updating existing key's value \n",
    "d[2] = 'welcome'\n",
    "print(d)\n",
    "\n",
    "# Adding Nested key value to Dictionary \n",
    "d[5] = {'netsed' : {'1' : 'hello', '2':'world'}}\n",
    "print('Adding nested value: ')\n",
    "print(d)"
   ]
  },
  {
   "cell_type": "code",
   "execution_count": 11,
   "metadata": {},
   "outputs": [
    {
     "name": "stdout",
     "output_type": "stream",
     "text": [
      "C++\n",
      "Accessin a elements using key: \n",
      "python\n"
     ]
    }
   ],
   "source": [
    "# python program to demostrate the elements from Dictionary \n",
    "# Creting dictionay \n",
    "d = {1: 'python', 'name' : 'C++', 3:'ReactJs'}\n",
    "# accessing a elements using key \n",
    "print(d['name'])\n",
    "\n",
    "# accessing a element using key \n",
    "print('Accessin a elements using key: ')\n",
    "print(d[1])\n"
   ]
  },
  {
   "cell_type": "code",
   "execution_count": 12,
   "metadata": {},
   "outputs": [
    {
     "name": "stdout",
     "output_type": "stream",
     "text": [
      "Accessing a elmenst using get: \n",
      "Django\n",
      "python\n"
     ]
    }
   ],
   "source": [
    "# Creating a Dictionatry \n",
    "d = {1:'python', 2:'for', 3:'Django'}\n",
    "# accessing elments using get() method\n",
    "print('Accessing a elmenst using get: ')\n",
    "print(d.get(3))\n",
    "print(d.get(1))"
   ]
  },
  {
   "cell_type": "code",
   "execution_count": 13,
   "metadata": {},
   "outputs": [
    {
     "name": "stdout",
     "output_type": "stream",
     "text": [
      "{1: 'python'}\n",
      "python\n",
      "\n",
      "Accessing Second key value\n",
      "Django\n"
     ]
    }
   ],
   "source": [
    "# creating dictionary \n",
    "d = {'key' : {1: 'python'}, 'key2': {'name': 'Django'}}\n",
    "\n",
    "# accessing elments using key\n",
    "print(d['key'])\n",
    "print(d['key'][1])\n",
    "\n",
    "# Accessing Second key value\n",
    "print()\n",
    "print('Accessing Second key value') \n",
    "print(d['key2']['name'])"
   ]
  },
  {
   "cell_type": "code",
   "execution_count": 14,
   "metadata": {},
   "outputs": [
    {
     "name": "stdout",
     "output_type": "stream",
     "text": [
      "Inintial Dictionary: \n",
      "{5: 'Wlecome', 6: 'to', 7: 'python', 'A': {1: 'python', 2: 'C++'}, 'B': {1: 'python', 2: 'developers'}}\n",
      "Deleting a specific key: \n",
      "{5: 'Wlecome', 7: 'python', 'A': {1: 'python', 2: 'C++'}, 'B': {1: 'python', 2: 'developers'}}\n",
      "{5: 'Wlecome', 7: 'python', 'A': {1: 'python'}, 'B': {1: 'python', 2: 'developers'}}\n"
     ]
    }
   ],
   "source": [
    "# initial Dictionary \n",
    "d = {5: 'Wlecome', 6: 'to', 7: 'python', 'A' : {1:'python', 2:'C++'}, 'B':{1:'python', 2:'developers'} }\n",
    "print('Inintial Dictionary: ')\n",
    "print(d)\n",
    "\n",
    "# deleting a key value \n",
    "del d[6]\n",
    "\n",
    "print(\"Deleting a specific key: \")\n",
    "print(d)\n",
    "\n",
    "# Deleteting a key from nested dictionay \n",
    "del d['A'][2]\n",
    "print(d)"
   ]
  }
 ],
 "metadata": {
  "interpreter": {
   "hash": "f9a665eed82786d1db64405b5cfd0f8037f4571b806793cb1072a84e044fc7ff"
  },
  "kernelspec": {
   "display_name": "Python 3.9.6 64-bit",
   "language": "python",
   "name": "python3"
  },
  "language_info": {
   "codemirror_mode": {
    "name": "ipython",
    "version": 3
   },
   "file_extension": ".py",
   "mimetype": "text/x-python",
   "name": "python",
   "nbconvert_exporter": "python",
   "pygments_lexer": "ipython3",
   "version": "3.9.6"
  },
  "orig_nbformat": 4
 },
 "nbformat": 4,
 "nbformat_minor": 2
}
