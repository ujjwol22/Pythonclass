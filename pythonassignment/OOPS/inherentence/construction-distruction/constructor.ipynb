{
 "cells": [
  {
   "cell_type": "code",
   "execution_count": 1,
   "metadata": {},
   "outputs": [
    {
     "name": "stdout",
     "output_type": "stream",
     "text": [
      "hello, this is ujjwol\n",
      "hello, this is Bikky\n"
     ]
    }
   ],
   "source": [
    "# a sample class with init method \n",
    "class Person:\n",
    "    # name = 'ujjwol'\n",
    "    # init method or constructor \n",
    "\n",
    "    def __init__(self, name):\n",
    "        self.name = name\n",
    "\n",
    "    # sample method \n",
    "    def sayHi(self):\n",
    "        print(f'hello, this is {self.name}')\n",
    "\n",
    "p = Person('ujjwol')\n",
    "p.sayHi()\n",
    "\n",
    "a = Person('Bikky')\n",
    "a.sayHi()"
   ]
  },
  {
   "cell_type": "code",
   "execution_count": 7,
   "metadata": {},
   "outputs": [
    {
     "name": "stdout",
     "output_type": "stream",
     "text": [
      "First number = 100\n",
      "Second number = 200\n",
      "Addition of two number = 300\n"
     ]
    }
   ],
   "source": [
    "class Addition:\n",
    "    first = 0\n",
    "    second = 0\n",
    "    answer = 0\n",
    "\n",
    "        \n",
    "    # parameterized constructor \n",
    "    def __init__(self, f, s):\n",
    "        self.first = f\n",
    "        self.second = s\n",
    "\n",
    "\n",
    "    def display(self):\n",
    "        print(f'First number = {self.first}')\n",
    "        print(f'Second number = {self.second}')\n",
    "        print(f'Addition of two number = {self.answer}')\n",
    "    \n",
    "    def calculator(self):\n",
    "        self.answer = self.first + self.second\n",
    "\n",
    "# creating object of the class \n",
    "# this will invoke parameterize constructor \n",
    "obj = Addition(100, 200)\n",
    "\n",
    "# perform Addition \n",
    "obj.calculator()\n",
    "# display result \n",
    "obj.display()\n"
   ]
  },
  {
   "cell_type": "code",
   "execution_count": 9,
   "metadata": {},
   "outputs": [
    {
     "name": "stdout",
     "output_type": "stream",
     "text": [
      "calling creat_obj() function...\n"
     ]
    }
   ],
   "source": [
    "# in python, it will manage the memory by it self but this is a user line methods to demostrate it.\n",
    "\n",
    "# python program to illustrate destructor \n",
    "\n",
    "class employess:\n",
    "\n",
    "    # initializing \n",
    "    def __init__(self):\n",
    "        print('Employee created.')\n",
    "\n",
    "    # Deleting (calling destructor)\n",
    "    def __del__(self):\n",
    "        print('Destructor called')\n",
    "\n",
    "def created_obj():\n",
    "    print('making Objects...')\n",
    "    obj = employess()\n",
    "    print('function end.....')\n",
    "    return obj\n",
    "\n",
    "print('calling creat_obj() function...')"
   ]
  }
 ],
 "metadata": {
  "interpreter": {
   "hash": "f9a665eed82786d1db64405b5cfd0f8037f4571b806793cb1072a84e044fc7ff"
  },
  "kernelspec": {
   "display_name": "Python 3.9.6 64-bit",
   "language": "python",
   "name": "python3"
  },
  "language_info": {
   "codemirror_mode": {
    "name": "ipython",
    "version": 3
   },
   "file_extension": ".py",
   "mimetype": "text/x-python",
   "name": "python",
   "nbconvert_exporter": "python",
   "pygments_lexer": "ipython3",
   "version": "3.9.6"
  },
  "orig_nbformat": 4
 },
 "nbformat": 4,
 "nbformat_minor": 2
}
