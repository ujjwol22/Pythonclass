{
 "cells": [
  {
   "cell_type": "code",
   "execution_count": 1,
   "metadata": {},
   "outputs": [
    {
     "ename": "SyntaxError",
     "evalue": "invalid syntax (Temp/ipykernel_10164/1787646138.py, line 15)",
     "output_type": "error",
     "traceback": [
      "\u001b[1;36m  File \u001b[1;32m\"C:\\Users\\Acer\\AppData\\Local\\Temp/ipykernel_10164/1787646138.py\"\u001b[1;36m, line \u001b[1;32m15\u001b[0m\n\u001b[1;33m    def isEmployee(self)(self):\u001b[0m\n\u001b[1;37m                        ^\u001b[0m\n\u001b[1;31mSyntaxError\u001b[0m\u001b[1;31m:\u001b[0m invalid syntax\n"
     ]
    }
   ],
   "source": [
    "# single inheritance \n",
    "\n",
    "class Person:\n",
    "    # parent class => base class => super class \n",
    "\n",
    "    # constructor \n",
    "    def __init__(self, name):\n",
    "        self.name = name\n",
    "\n",
    "        # to get name \n",
    "    def getName(self):\n",
    "        return self.name\n",
    "\n",
    "        # to check if this person is an employee\n",
    "    def isEmployee(self)(self):\n",
    "        return False\n",
    "\n",
    "\n",
    "# inheritance or subclass (Note: the person is in bracket)\n",
    "class Employee(Person):\n",
    "    # child class => sub-class => derive class \n",
    "\n",
    "    # here we return true \n",
    "    def isEmployee(self)(self):\n",
    "        return True\n",
    "\n",
    "emp = Person('Ujjwol') # an object of Person \n",
    "print(emp.getName(), emp.isEmployee(self)())  \n",
    "\n",
    "emp2 = Employee('Bikky') # an object of Emplotyee\n",
    "print(emp2.getName(), emp2.isEmployee(self)())"
   ]
  }
 ],
 "metadata": {
  "interpreter": {
   "hash": "f9a665eed82786d1db64405b5cfd0f8037f4571b806793cb1072a84e044fc7ff"
  },
  "kernelspec": {
   "display_name": "Python 3.9.6 64-bit",
   "language": "python",
   "name": "python3"
  },
  "language_info": {
   "codemirror_mode": {
    "name": "ipython",
    "version": 3
   },
   "file_extension": ".py",
   "mimetype": "text/x-python",
   "name": "python",
   "nbconvert_exporter": "python",
   "pygments_lexer": "ipython3",
   "version": "3.9.6"
  },
  "orig_nbformat": 4
 },
 "nbformat": 4,
 "nbformat_minor": 2
}
