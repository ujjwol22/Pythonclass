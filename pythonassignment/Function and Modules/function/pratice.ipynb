{
 "cells": [
  {
   "cell_type": "code",
   "execution_count": 2,
   "metadata": {},
   "outputs": [],
   "source": [
    "# simple program that checks either the number is even or odd \n",
    "def evenOdd(input):\n",
    "\tif input % 2 == 0:\n",
    "\t\tprint(\"Even\")\n",
    "\telse:\n",
    "\t\tprint(\"Odd\")"
   ]
  }
 ],
 "metadata": {
  "interpreter": {
   "hash": "5fcbe73ffa2387175b8deeacaf6fbe2dad8bf737d9c90fd4b7dd07d3523b62cd"
  },
  "kernelspec": {
   "display_name": "Python 3.9.6 32-bit",
   "language": "python",
   "name": "python3"
  },
  "language_info": {
   "codemirror_mode": {
    "name": "ipython",
    "version": 3
   },
   "file_extension": ".py",
   "mimetype": "text/x-python",
   "name": "python",
   "nbconvert_exporter": "python",
   "pygments_lexer": "ipython3",
   "version": "3.9.6"
  },
  "orig_nbformat": 4
 },
 "nbformat": 4,
 "nbformat_minor": 2
}
