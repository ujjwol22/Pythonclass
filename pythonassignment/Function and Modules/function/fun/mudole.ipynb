{
 "cells": [
  {
   "cell_type": "code",
   "execution_count": 1,
   "metadata": {},
   "outputs": [
    {
     "name": "stdout",
     "output_type": "stream",
     "text": [
      "Hello\n"
     ]
    }
   ],
   "source": [
    "# userdefine function \n",
    "# simple function \n",
    "def hello():\n",
    "    print('Hello')\n",
    "hello()"
   ]
  },
  {
   "cell_type": "code",
   "execution_count": 2,
   "metadata": {},
   "outputs": [
    {
     "name": "stdout",
     "output_type": "stream",
     "text": [
      "hello ujjwol\n"
     ]
    }
   ],
   "source": [
    "# parameter: which holds the value which we pass \n",
    "def display(name): # name parameter / arguments will store the value which we pass from below  where we have call the function \n",
    "    print(f'hello {name}')\n",
    "display('ujjwol') # it will pass all the datatypes "
   ]
  },
  {
   "cell_type": "code",
   "execution_count": 4,
   "metadata": {},
   "outputs": [
    {
     "name": "stdout",
     "output_type": "stream",
     "text": [
      "hey ujjwol parajuli\n",
      "hey    \n"
     ]
    }
   ],
   "source": [
    "def display_name(firstname, lastname):\n",
    "    print(f'hey {firstname} {lastname}')\n",
    "display_name('ujjwol', 'parajuli') # passing the value to parameters  \n",
    "# we have to pass all the value that we define in parameter and if we dont wanna a pass any value we can pass the empty value here.... as shown below \n",
    "display_name(' ', ' ') # \n"
   ]
  },
  {
   "cell_type": "code",
   "execution_count": 5,
   "metadata": {},
   "outputs": [
    {
     "name": "stdout",
     "output_type": "stream",
     "text": [
      "hello  10 20 30\n"
     ]
    }
   ],
   "source": [
    "def re_assign_value(a, b, c):\n",
    "    # re defining the value \n",
    "    a = 10\n",
    "    b = 20\n",
    "    c = 30\n",
    "    print('hello ', a, b, c) # display an re-assigned value \n",
    "re_assign_value(1, 2, 3) # passing the value to parameters "
   ]
  },
  {
   "cell_type": "code",
   "execution_count": 6,
   "metadata": {},
   "outputs": [
    {
     "name": "stdout",
     "output_type": "stream",
     "text": [
      "Even\n"
     ]
    }
   ],
   "source": [
    "# if-else condition \n",
    "def evenodd(x):\n",
    "    if x%2==0:\n",
    "        print('Even')\n",
    "    else:\n",
    "        print('odd')\n",
    "\n",
    "evenodd(2)"
   ]
  },
  {
   "cell_type": "code",
   "execution_count": 35,
   "metadata": {},
   "outputs": [
    {
     "name": "stdout",
     "output_type": "stream",
     "text": [
      "x:  10\n",
      "y:  20\n",
      "z:  30\n"
     ]
    }
   ],
   "source": [
    "# default arguments \n",
    "def myfun(x=10, y=20, z=30): # if we wont pass the value from below then it will  diaplay an defalu value but if we pass the value on it then it will display tha value which we pass from below.\n",
    "    print('x: ', x)\n",
    "    print('y: ', y)\n",
    "    print('z: ', z)\n",
    "# myfun('string', 1, 5.2)\n",
    "myfun()\n",
    "\n",
    "# Note: if we wont keep the default value and wont pass from below then also it will throw an error "
   ]
  },
  {
   "cell_type": "code",
   "execution_count": 37,
   "metadata": {},
   "outputs": [
    {
     "name": "stdout",
     "output_type": "stream",
     "text": [
      "x:  9\n",
      "y:  4\n"
     ]
    }
   ],
   "source": [
    "# keyword arguments \n",
    "def fun(x, y):\n",
    "    print('x: ', x)\n",
    "    print('y: ',y)\n",
    "fun(y=4, x=9) # order doesnot matter here \n",
    "# Note: according to declaration of parameters the value can pass in any-order "
   ]
  },
  {
   "cell_type": "code",
   "execution_count": 43,
   "metadata": {},
   "outputs": [
    {
     "name": "stdout",
     "output_type": "stream",
     "text": [
      "<class 'tuple'>\n",
      "(1, 2, 'ujjwol', 5)\n"
     ]
    }
   ],
   "source": [
    "# single arguments = * ==> convert to tuple\n",
    "def arg(*args):\n",
    "    print(type(args))\n",
    "    print(args) \n",
    "    # for i in arg:\n",
    "        # print(i, end=' ')\n",
    "\n",
    "arg(1, 2, 'ujjwol', 5)"
   ]
  },
  {
   "cell_type": "code",
   "execution_count": 47,
   "metadata": {},
   "outputs": [
    {
     "name": "stdout",
     "output_type": "stream",
     "text": [
      "<class 'dict'>\n",
      "{'x': 1, 'y': 2, 'z': 'python'}\n"
     ]
    }
   ],
   "source": [
    "# keyword arguments = ** ==> convert to dictionary \n",
    "def kwargs(**kwargs):\n",
    "    print(type(kwargs))\n",
    "    print(kwargs)\n",
    "\n",
    "kwargs(x = 1, y= 2,z='python')"
   ]
  },
  {
   "cell_type": "code",
   "execution_count": 50,
   "metadata": {},
   "outputs": [
    {
     "name": "stdout",
     "output_type": "stream",
     "text": [
      "first == hello\n",
      "middle == ujjwol\n",
      "last == parajuli\n"
     ]
    }
   ],
   "source": [
    "# display the arguments with the help of loop \n",
    "# if we are using ** then there must be key and value as like in dictionary because this is keyword arguments \n",
    "def key(**kwargs):\n",
    "\tfor key, value in kwargs.items():\n",
    "\t\tprint(\"%s == %s\" % (key, value))\n",
    "\n",
    "# calling a function \n",
    "key(first =\"hello\", middle = \"ujjwol\", last = \"parajuli\")"
   ]
  },
  {
   "cell_type": "code",
   "execution_count": 51,
   "metadata": {},
   "outputs": [
    {
     "name": "stdout",
     "output_type": "stream",
     "text": [
      "Ujjwol\n"
     ]
    }
   ],
   "source": [
    "def key(**kwargs):\n",
    "    # we can display the value of dictionary, we have following two ways, \n",
    "    \n",
    "    # for value in kwargs['first']: # directly \n",
    "    # for value in kwargs.get('first'): # by using get method \n",
    "        # print(value, end='')\n",
    "    print(kwargs['middle'])\n",
    "key(first =\"hello\", middle = \"Ujjwol\", last = \"parajuli\")\n"
   ]
  },
  {
   "cell_type": "code",
   "execution_count": 52,
   "metadata": {},
   "outputs": [
    {
     "name": "stdout",
     "output_type": "stream",
     "text": [
      "30\n"
     ]
    },
    {
     "data": {
      "text/plain": [
       "\"this function add's the numbers \""
      ]
     },
     "execution_count": 52,
     "metadata": {},
     "output_type": "execute_result"
    }
   ],
   "source": [
    "# Docstring:- it is a statement which is written after defining the function about what the function is doing\n",
    "\n",
    "def add():\n",
    "    \"\"\"this function add's the numbers \"\"\"\n",
    "    a = 10\n",
    "    b = 20\n",
    "    c = a + b\n",
    "    print(c)\n",
    "add() \n",
    "add.__doc__ # printing the docs of function "
   ]
  },
  {
   "cell_type": "code",
   "execution_count": 53,
   "metadata": {},
   "outputs": [
    {
     "name": "stdout",
     "output_type": "stream",
     "text": [
      "Odd\n"
     ]
    },
    {
     "data": {
      "text/plain": [
       "'This function will check either the number is even or odd'"
      ]
     },
     "execution_count": 53,
     "metadata": {},
     "output_type": "execute_result"
    }
   ],
   "source": [
    "def evenOdd(x):\n",
    "    '''This function will check either the number is even or odd'''\n",
    "    if x % 2 == 0:\n",
    "        print(\"Even\")\n",
    "    else:\n",
    "        print(\"Odd\")\n",
    "evenOdd(5)\n",
    "evenOdd.__doc__"
   ]
  },
  {
   "cell_type": "code",
   "execution_count": 54,
   "metadata": {},
   "outputs": [
    {
     "name": "stdout",
     "output_type": "stream",
     "text": [
      "25\n"
     ]
    }
   ],
   "source": [
    "# Return \n",
    "def square_value(sqr):\n",
    "    sq = (sqr * sqr) \n",
    "    return sq  \n",
    "# return simply can display the value, \n",
    "# But its value can be store to any other variable, as shown belo\n",
    "square_value(2)\n",
    "x = square_value(5)\n",
    "print(x)\n"
   ]
  },
  {
   "cell_type": "code",
   "execution_count": 55,
   "metadata": {},
   "outputs": [
    {
     "name": "stdout",
     "output_type": "stream",
     "text": [
      "25\n"
     ]
    }
   ],
   "source": [
    "# Return \n",
    "def square_value(sqr):\n",
    "    sq = (sqr * sqr) \n",
    "    return sq  \n",
    "# return simply can display the value, \n",
    "# But its value can be store to any other variable, as shown belo\n",
    "square_value(2)\n",
    "x = square_value(5)\n",
    "print(x)\n"
   ]
  },
  {
   "cell_type": "code",
   "execution_count": 58,
   "metadata": {},
   "outputs": [
    {
     "name": "stdout",
     "output_type": "stream",
     "text": [
      "12\n"
     ]
    }
   ],
   "source": [
    "# add number \n",
    "def add_num(num):\n",
    "    s = num + 5\n",
    "    return s\n",
    "x = add_num(7)\n",
    "print(x)"
   ]
  },
  {
   "cell_type": "code",
   "execution_count": 66,
   "metadata": {},
   "outputs": [
    {
     "name": "stdout",
     "output_type": "stream",
     "text": [
      "This is python course  would you like to it?\n",
      " would you like to it?\n"
     ]
    }
   ],
   "source": [
    "def gv():\n",
    "    \tprint('This is python course', s)\n",
    "s = ' would you like to it?'\n",
    "gv()\n",
    "print(s)"
   ]
  },
  {
   "cell_type": "code",
   "execution_count": 67,
   "metadata": {},
   "outputs": [
    {
     "name": "stdout",
     "output_type": "stream",
     "text": [
      "hey buddy how is going ur coding\n",
      "hey python how u doing?\n"
     ]
    }
   ],
   "source": [
    "# local and global variable \n",
    "def func():\n",
    "    # local variable because it is define inside the function \n",
    "    x = 'hey python how u doing?'\n",
    "    print(x)\n",
    "# Global variable\n",
    "x = 'hey buddy how is going ur coding'\n",
    "# this x(Global variabl) and above x(local variable) are totally different from each other \n",
    "print(x)\n",
    "# calling a function \n",
    "func()"
   ]
  },
  {
   "cell_type": "code",
   "execution_count": 68,
   "metadata": {},
   "outputs": [
    {
     "name": "stdout",
     "output_type": "stream",
     "text": [
      "hello boss\n",
      "hello boss\n"
     ]
    }
   ],
   "source": [
    "# non return type \n",
    "# if we are not writing return in function then its default value will be non return type \n",
    "def gl():\n",
    "    # Note: if there no any local variable define inside the function then it will look for globla variable with same name, as GLOBAL VARIABLE are grater than LOCAL VRAIBLE.\n",
    "    print(x1)\n",
    "\n",
    "x1 = 'hello boss'\n",
    "print(x1)\n",
    "gl()"
   ]
  },
  {
   "cell_type": "code",
   "execution_count": 69,
   "metadata": {},
   "outputs": [
    {
     "name": "stdout",
     "output_type": "stream",
     "text": [
      "love coding in python and React js\n",
      "love coding in python and React js\n"
     ]
    }
   ],
   "source": [
    "def f():\n",
    "    # Note: here we are concaniting the local variable with global variable, then it will make changes in Both local variable and well as global variable.... as we can see we in the below code \n",
    "    '''global value are called in local variable, which bring the changes in both global and local variable'''\n",
    "    global s\n",
    "    s = s + 'and React js'\n",
    "    print(s)\n",
    "\n",
    "# global variable \n",
    "s = 'love coding in python '\n",
    "f()\n",
    "print(s)"
   ]
  },
  {
   "cell_type": "code",
   "execution_count": 70,
   "metadata": {},
   "outputs": [
    {
     "name": "stdout",
     "output_type": "stream",
     "text": [
      "Global:  10\n",
      "using global variable:  10\n",
      "Global:  10\n",
      "using local variable:  10\n",
      "Global:  10\n",
      "modified (using global keyword):  3\n",
      "Global:  3\n"
     ]
    }
   ],
   "source": [
    "# using local and global variale \n",
    "# defining global variable \n",
    "a = 10\n",
    "\n",
    "# use of global variable as there is no any local variable \n",
    "def f():\n",
    "    print('using global variable: ', a)\n",
    "\n",
    "# re-defining the same name variable in local variable \n",
    "def g():\n",
    "    x = 20\n",
    "    print('using local variable: ', a)\n",
    "\n",
    "# using global Keyword to modity global variable \n",
    "def h():\n",
    "    global a\n",
    "    a = 3\n",
    "    print('modified (using global keyword): ', a) # accept same local value \n",
    "\n",
    "# 1st function \n",
    "print('Global: ', a)\n",
    "f()\n",
    "print('Global: ', a)\n",
    "g()\n",
    "print('Global: ', a)\n",
    "h()\n",
    "print('Global: ', a) # after modification its value is change to 3"
   ]
  },
  {
   "cell_type": "code",
   "execution_count": 71,
   "metadata": {},
   "outputs": [
    {
     "name": "stdout",
     "output_type": "stream",
     "text": [
      "10\n",
      "5\n",
      "5\n",
      "1\n",
      "1\n"
     ]
    }
   ],
   "source": [
    "def comb():\n",
    "    global x\n",
    "    x = 5\n",
    "    print(x)\n",
    "\n",
    "x = 10\n",
    "print(x) # 10\n",
    "comb()\n",
    "print(x) # in this line the local (GLOBAL keyword define) value will be pass\n",
    "x = 1\n",
    "print(x)\n",
    "print(x)"
   ]
  },
  {
   "cell_type": "code",
   "execution_count": 72,
   "metadata": {},
   "outputs": [
    {
     "name": "stdout",
     "output_type": "stream",
     "text": [
      "Global:  ujjwol\n",
      "ujjwol\n",
      "Global:  ujjwol\n",
      "hey Buddy how is going ur coding ?\n",
      "Global:  ujjwol\n",
      "Which frame work will you choose in python ?\n",
      "Global:  Which frame work will you choose in python ?\n"
     ]
    }
   ],
   "source": [
    "# global declaration \n",
    "a = 'ujjwol'\n",
    "def test():\n",
    "    print(a) # passing value from global variable\n",
    "\n",
    "# local declaration \n",
    "def test1():\n",
    "    a = 'hey Buddy how is going ur coding ?'\n",
    "    print(a)\n",
    "\n",
    "# global keyword \n",
    "def test23():\n",
    "    global a\n",
    "    a = 'Which frame work will you choose in python ?'\n",
    "    print(a)\n",
    "# calling the functions and value \n",
    "print('Global: ', a) #ujjwol\n",
    "test() # ujjwol\n",
    "print('Global: ', a) # ujjwol\n",
    "test1() # hey Buddy how is going ur coding ?\n",
    "print('Global: ', a) # ujjwol\n",
    "test23() # Which frame work will you choose in python ?\n",
    "print('Global: ', a) # Which frame work will you choose in python ?"
   ]
  },
  {
   "cell_type": "code",
   "execution_count": 75,
   "metadata": {},
   "outputs": [
    {
     "name": "stdout",
     "output_type": "stream",
     "text": [
      "10\n",
      "14\n",
      "14\n"
     ]
    }
   ],
   "source": [
    "def num():\n",
    "    # a = 5 + a # the second a refers a global whcih we try to change but we cant \n",
    "    # if we want to change \n",
    "\n",
    "    global a\n",
    "    a = a + 4\n",
    "    print(a)\n",
    "\n",
    "a = 10\n",
    "print(a)\n",
    "num()\n",
    "print(a) # the value of 'a' is updated and bacase we are using a global keyword which makes its value global "
   ]
  },
  {
   "cell_type": "code",
   "execution_count": 76,
   "metadata": {},
   "outputs": [
    {
     "name": "stdout",
     "output_type": "stream",
     "text": [
      "this is mei love it \n",
      "this is me\n"
     ]
    }
   ],
   "source": [
    "# up to date \n",
    "def f():\n",
    "    a = s + 'i love it '\n",
    "    print(a)\n",
    "\n",
    "s = 'this is me'\n",
    "f()\n",
    "print(s)\n"
   ]
  },
  {
   "cell_type": "code",
   "execution_count": null,
   "metadata": {},
   "outputs": [],
   "source": [
    "# * means it will import all the function that is define inside the model \n",
    "from module1 import *  \n",
    "a = largest(5, 8, 10)\n",
    "print(f'largest is: {a}')"
   ]
  },
  {
   "cell_type": "code",
   "execution_count": 83,
   "metadata": {},
   "outputs": [
    {
     "name": "stdout",
     "output_type": "stream",
     "text": [
      "120\n"
     ]
    }
   ],
   "source": [
    "import math \n",
    "print(math.factorial(5))"
   ]
  },
  {
   "cell_type": "code",
   "execution_count": 89,
   "metadata": {},
   "outputs": [
    {
     "ename": "SyntaxError",
     "evalue": "invalid syntax (Temp/ipykernel_6636/1919995626.py, line 1)",
     "output_type": "error",
     "traceback": [
      "\u001b[1;36m  File \u001b[1;32m\"C:\\Users\\Acer\\AppData\\Local\\Temp/ipykernel_6636/1919995626.py\"\u001b[1;36m, line \u001b[1;32m1\u001b[0m\n\u001b[1;33m    renaming the name of the model\u001b[0m\n\u001b[1;37m             ^\u001b[0m\n\u001b[1;31mSyntaxError\u001b[0m\u001b[1;31m:\u001b[0m invalid syntax\n"
     ]
    }
   ],
   "source": [
    " renaming the name of the model  \n",
    "import module1 as m\n",
    "a = m.sum(4)\n",
    "b = m.largest(5, 9, 17)\n",
    "print(f'sum is: {a}')\n",
    "print(f'largest is: {b}')"
   ]
  },
  {
   "cell_type": "code",
   "execution_count": null,
   "metadata": {},
   "outputs": [],
   "source": [
    "# if we dont know how many functions are there and if we need to see it then we can use below function \n",
    "import module1 as m\n",
    "a = dir(m) # this will show how many function we have inside  the model\n",
    "print(a)\n",
    "\n",
    "# print(dir(m)) "
   ]
  },
  {
   "cell_type": "code",
   "execution_count": 90,
   "metadata": {},
   "outputs": [
    {
     "name": "stdout",
     "output_type": "stream",
     "text": [
      "['__doc__', '__loader__', '__name__', '__package__', '__spec__', 'acos', 'acosh', 'asin', 'asinh', 'atan', 'atan2', 'atanh', 'ceil', 'comb', 'copysign', 'cos', 'cosh', 'degrees', 'dist', 'e', 'erf', 'erfc', 'exp', 'expm1', 'fabs', 'factorial', 'floor', 'fmod', 'frexp', 'fsum', 'gamma', 'gcd', 'hypot', 'inf', 'isclose', 'isfinite', 'isinf', 'isnan', 'isqrt', 'lcm', 'ldexp', 'lgamma', 'log', 'log10', 'log1p', 'log2', 'modf', 'nan', 'nextafter', 'perm', 'pi', 'pow', 'prod', 'radians', 'remainder', 'sin', 'sinh', 'sqrt', 'tan', 'tanh', 'tau', 'trunc', 'ulp']\n",
      "Gcd of 10 and 15 is: 5\n"
     ]
    }
   ],
   "source": [
    "# importing the builter model \n",
    "# most use module \n",
    "import math \n",
    "# import random \n",
    "# import datatime\n",
    "\n",
    "\n",
    "print(dir(math)) \n",
    "a = math.gcd(10, 15)\n",
    "print(f'Gcd of 10 and 15 is: {a}')"
   ]
  },
  {
   "cell_type": "code",
   "execution_count": 91,
   "metadata": {},
   "outputs": [
    {
     "ename": "SyntaxError",
     "evalue": "unexpected EOF while parsing (Temp/ipykernel_6636/1992446110.py, line 3)",
     "output_type": "error",
     "traceback": [
      "\u001b[1;36m  File \u001b[1;32m\"C:\\Users\\Acer\\AppData\\Local\\Temp/ipykernel_6636/1992446110.py\"\u001b[1;36m, line \u001b[1;32m3\u001b[0m\n\u001b[1;33m    print(math.log(10)\u001b[0m\n\u001b[1;37m                      ^\u001b[0m\n\u001b[1;31mSyntaxError\u001b[0m\u001b[1;31m:\u001b[0m unexpected EOF while parsing\n"
     ]
    }
   ],
   "source": [
    "import math \n",
    "# print(math.log(10, 2))\n",
    "print(math.log(10)"
   ]
  },
  {
   "cell_type": "code",
   "execution_count": 92,
   "metadata": {},
   "outputs": [
    {
     "name": "stdout",
     "output_type": "stream",
     "text": [
      "2.0\n",
      "0.0\n",
      "3.1622776601683795\n",
      "2.8284271247461903\n"
     ]
    }
   ],
   "source": [
    "import math \n",
    "print(math.sqrt(4))\n",
    "print(math.sqrt(0))\n",
    "print(math.sqrt(10))\n",
    "print(math.sqrt(8))\n",
    "print(math.sqrt(8))"
   ]
  },
  {
   "cell_type": "code",
   "execution_count": 94,
   "metadata": {},
   "outputs": [
    {
     "name": "stdout",
     "output_type": "stream",
     "text": [
      "2.8284271247461903\n",
      "the value of sign is:  0.49999999999999994\n",
      "the value of cos is:  0.8660254037844387\n",
      "the value of tan is:  0.5773502691896257\n"
     ]
    }
   ],
   "source": [
    "print(math.sqrt(8))\n",
    "import math \n",
    "a = math.pi / 6\n",
    "\n",
    "# sin \n",
    "print('the value of sign is: ', end=' ')\n",
    "print(math.sin(a))\n",
    "\n",
    "# cos\n",
    "print('the value of cos is: ', end=' ')\n",
    "print(math.cos(a))\n",
    "\n",
    "# tan \n",
    "print('the value of tan is: ', end=' ')\n",
    "print(math.tan(a))"
   ]
  },
  {
   "cell_type": "code",
   "execution_count": 95,
   "metadata": {},
   "outputs": [
    {
     "name": "stdout",
     "output_type": "stream",
     "text": [
      "2021-12-26 12:47:49.315201\n",
      "2021\n",
      "Sunday\n",
      "Sun\n",
      "0\n",
      "26\n",
      "Dec\n",
      "December\n",
      "21\n",
      "2021\n",
      "12 12 PM\n",
      "12 hr: 47 min: 49 sec\n",
      "360\n",
      "52\n",
      "51\n",
      "Sun Dec 26 12:47:49 2021\n",
      "20\n",
      "12/26/21\n",
      "12:47:49\n",
      "2021\n"
     ]
    }
   ],
   "source": [
    "# datetime sunctions \n",
    "import datetime\n",
    "x = datetime.datetime.now()\n",
    "# print(dir(datetime))\n",
    "print(x)\n",
    "print(x.year) # display the year \n",
    "print(x.strftime(\"%A\")) # display the dayin full words \n",
    "print(x.strftime(\"%a\")) # display the word in short \n",
    "print(x.strftime(\"%w\")) # number the day which is it....\n",
    "print(x.strftime(\"%d\")) # day of the month and today is 4th dec\n",
    "print(x.strftime(\"%b\")) # month name in short \n",
    "print(x.strftime(\"%B\")) # month name in full \n",
    "print(x.strftime(\"%y\")) # display the last numbers of year i.e 21 of 2021\n",
    "print(x.strftime(\"%Y\")) # display year in number i.e 2021\n",
    "print(x.strftime(\"%H %I %p\")) # hour in 24 / hour in 12 / AM/PM\n",
    "print(x.strftime(\"%H hr: %M min: %S sec\"))\n",
    "print(x.strftime(\"%j\")) # day number of year \n",
    "print(x.strftime(\"%U\")) # week of the year, sunday as a first day \n",
    "print(x.strftime(\"%W\")) # week of the year, monday as a first day \n",
    "print(x.strftime(\"%c\")) # local version of date and time \n",
    "print(x.strftime(\"%C\")) # century \n",
    "print(x.strftime(\"%x\")) # local version of time \n",
    "print(x.strftime(\"%X\")) # local version of date\n",
    "print(x.strftime(\"%G\")) # ios year  "
   ]
  },
  {
   "cell_type": "code",
   "execution_count": 97,
   "metadata": {},
   "outputs": [
    {
     "ename": "ValueError",
     "evalue": "invalid literal for int() with base 10: ''",
     "output_type": "error",
     "traceback": [
      "\u001b[1;31m---------------------------------------------------------------------------\u001b[0m",
      "\u001b[1;31mValueError\u001b[0m                                Traceback (most recent call last)",
      "\u001b[1;32m~\\AppData\\Local\\Temp/ipykernel_6636/1758875347.py\u001b[0m in \u001b[0;36m<module>\u001b[1;34m\u001b[0m\n\u001b[0;32m      5\u001b[0m \u001b[1;33m\u001b[0m\u001b[0m\n\u001b[0;32m      6\u001b[0m \u001b[1;31m# from user input\u001b[0m\u001b[1;33m\u001b[0m\u001b[1;33m\u001b[0m\u001b[1;33m\u001b[0m\u001b[0m\n\u001b[1;32m----> 7\u001b[1;33m \u001b[0myy\u001b[0m \u001b[1;33m=\u001b[0m \u001b[0mint\u001b[0m\u001b[1;33m(\u001b[0m\u001b[0minput\u001b[0m\u001b[1;33m(\u001b[0m\u001b[1;34m\"Enter a year: \"\u001b[0m\u001b[1;33m)\u001b[0m\u001b[1;33m)\u001b[0m\u001b[1;33m\u001b[0m\u001b[1;33m\u001b[0m\u001b[0m\n\u001b[0m\u001b[0;32m      8\u001b[0m \u001b[0mmm\u001b[0m \u001b[1;33m=\u001b[0m \u001b[0mint\u001b[0m\u001b[1;33m(\u001b[0m\u001b[0minput\u001b[0m\u001b[1;33m(\u001b[0m\u001b[1;34m\"Enter a month: \"\u001b[0m\u001b[1;33m)\u001b[0m\u001b[1;33m)\u001b[0m\u001b[1;33m\u001b[0m\u001b[1;33m\u001b[0m\u001b[0m\n\u001b[0;32m      9\u001b[0m \u001b[0mprint\u001b[0m\u001b[1;33m(\u001b[0m\u001b[0mcalendar\u001b[0m\u001b[1;33m.\u001b[0m\u001b[0mmonth\u001b[0m\u001b[1;33m(\u001b[0m\u001b[0myy\u001b[0m\u001b[1;33m,\u001b[0m \u001b[0mmm\u001b[0m\u001b[1;33m)\u001b[0m\u001b[1;33m)\u001b[0m\u001b[1;33m\u001b[0m\u001b[1;33m\u001b[0m\u001b[0m\n",
      "\u001b[1;31mValueError\u001b[0m: invalid literal for int() with base 10: ''"
     ]
    }
   ],
   "source": [
    "# weite a program to display the calander from the model \n",
    "import calendar\n",
    "# yy = 2021\n",
    "# mm = 12\n",
    "\n",
    "# from user input \n",
    "yy = int(input(\"Enter a year: \"))\n",
    "mm = int(input(\"Enter a month: \"))\n",
    "print(calendar.month(yy, mm))"
   ]
  }
 ],
 "metadata": {
  "interpreter": {
   "hash": "f9a665eed82786d1db64405b5cfd0f8037f4571b806793cb1072a84e044fc7ff"
  },
  "kernelspec": {
   "display_name": "Python 3.9.6 64-bit",
   "language": "python",
   "name": "python3"
  },
  "language_info": {
   "codemirror_mode": {
    "name": "ipython",
    "version": 3
   },
   "file_extension": ".py",
   "mimetype": "text/x-python",
   "name": "python",
   "nbconvert_exporter": "python",
   "pygments_lexer": "ipython3",
   "version": "3.9.6"
  },
  "orig_nbformat": 4
 },
 "nbformat": 4,
 "nbformat_minor": 2
}
