{
 "cells": [
  {
   "cell_type": "code",
   "execution_count": 1,
   "metadata": {},
   "outputs": [
    {
     "name": "stdout",
     "output_type": "stream",
     "text": [
      "calling creat_obj() function...\n",
      "making Objects...\n",
      "Employee created.\n",
      "function end.....\n"
     ]
    }
   ],
   "source": [
    "# in python, it will manage the memory by it self but this is a user line methods to demostrate it.\n",
    "\n",
    "# python program to illustrate destructor \n",
    "\n",
    "class employess:\n",
    "\n",
    "    # initializing \n",
    "    def __init__(self):\n",
    "        print('Employee created.')\n",
    "\n",
    "    # Deleting (calling destructor)\n",
    "    def __del__(self):\n",
    "        print('Destructor called')\n",
    "\n",
    "def created_obj():\n",
    "    print('making Objects...')\n",
    "    obj = employess()\n",
    "    print('function end.....')\n",
    "    return obj\n",
    "\n",
    "print('calling creat_obj() function...')\n",
    "obj = created_obj()"
   ]
  }
 ],
 "metadata": {
  "interpreter": {
   "hash": "f9a665eed82786d1db64405b5cfd0f8037f4571b806793cb1072a84e044fc7ff"
  },
  "kernelspec": {
   "display_name": "Python 3.9.6 64-bit",
   "language": "python",
   "name": "python3"
  },
  "language_info": {
   "codemirror_mode": {
    "name": "ipython",
    "version": 3
   },
   "file_extension": ".py",
   "mimetype": "text/x-python",
   "name": "python",
   "nbconvert_exporter": "python",
   "pygments_lexer": "ipython3",
   "version": "3.9.6"
  },
  "orig_nbformat": 4
 },
 "nbformat": 4,
 "nbformat_minor": 2
}
