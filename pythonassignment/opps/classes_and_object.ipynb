{
 "cells": [
  {
   "cell_type": "code",
   "execution_count": 2,
   "metadata": {},
   "outputs": [
    {
     "name": "stdout",
     "output_type": "stream",
     "text": [
      "object One\n",
      "Ujjwol\n",
      "\n",
      "object two\n",
      "kusum\n"
     ]
    }
   ],
   "source": [
    "# prototype: kind of dommy\n",
    "# class\n",
    "class Car:\n",
    "    # data member/ attribute \n",
    "    a = 'Ujjwol'\n",
    "    b = 'kusum'\n",
    "    c = 'Elon'\n",
    "    d = 'Mark'\n",
    "\n",
    "    # member function/methods \n",
    "    # the function or method is created inside the class so they it is called as a member function or method.  \n",
    "    def hello():\n",
    "        print('hello')\n",
    "\n",
    "print('object One')\n",
    "obj1 = Car()\n",
    "print(obj1.a)\n",
    "\n",
    "print()\n",
    "print('object two')\n",
    "obj2 = Car()\n",
    "print(obj2.b)\n",
    "\n",
    "# Both the objects are of car, so we can make as much objects we want and call them \n",
    "\n"
   ]
  },
  {
   "cell_type": "code",
   "execution_count": 3,
   "metadata": {},
   "outputs": [
    {
     "name": "stdout",
     "output_type": "stream",
     "text": [
      "python\n",
      "hello, i am inside car\n",
      "hey this is a function, which is inside the car\n",
      "<class '__main__.car'>\n"
     ]
    }
   ],
   "source": [
    "class car:\n",
    "    a = 'python'\n",
    "    b = 'java'\n",
    "    c = 'Reactjs'\n",
    "\n",
    "    def hello(self):\n",
    "        print('hello, i am inside car')\n",
    "\n",
    "    def hello2(self):\n",
    "        print('hey this is a function, which is inside the car')\n",
    "\n",
    "val1 = car()\n",
    "val2 = car()\n",
    "print(val1.a)\n",
    "val1.hello()\n",
    "val2.hello2()\n",
    "print(type(val1))"
   ]
  },
  {
   "cell_type": "code",
   "execution_count": 4,
   "metadata": {},
   "outputs": [
    {
     "name": "stdout",
     "output_type": "stream",
     "text": [
      "the car u are driving is toyota\n",
      "None\n",
      "the car u are driving is audi\n",
      "None\n",
      "the car u are driving is volvex\n",
      "None\n",
      "the car u are driving is toyota\n",
      "None\n",
      "the car u are driving is volvex\n",
      "None\n"
     ]
    }
   ],
   "source": [
    "class car:\n",
    "    a = 'toyota'\n",
    "    b = 'volvex'\n",
    "    c = 'audi'\n",
    "\n",
    "    def toyota(self):\n",
    "        print(f'the car u are driving is {self.a}')\n",
    "    \n",
    "    def volvex(self):\n",
    "        print(f'the car u are driving is {self.b}')\n",
    "    \n",
    "    def audi(self):\n",
    "        print(f'the car u are driving is {self.c}')\n",
    "\n",
    "val1 = car()\n",
    "val2 = car()\n",
    "val3 = car()\n",
    "\n",
    "# calling with value one \n",
    "c = val1.toyota()\n",
    "print(c)\n",
    "d = val1.audi()\n",
    "print(d)\n",
    "\n",
    "# calling with second value \n",
    "e = val2.volvex()\n",
    "print(e)\n",
    "f = val2.toyota()\n",
    "print(f)\n",
    "\n",
    "# calling with third value \n",
    "g = val2.volvex()\n",
    "print(g)"
   ]
  },
  {
   "cell_type": "code",
   "execution_count": 5,
   "metadata": {},
   "outputs": [
    {
     "name": "stdout",
     "output_type": "stream",
     "text": [
      "hello i am yogesh\n",
      "yogesh\n",
      "hey i am hello\n"
     ]
    }
   ],
   "source": [
    "class person:\n",
    "\n",
    "    # this is constructor \n",
    "    # this is automatically called \n",
    "    def __init__(self, name):\n",
    "        print(f'hello i am {name}')\n",
    "        self.name = name\n",
    "        print(self.name)\n",
    "\n",
    "    def hello(self):\n",
    "        print('hey i am hello')\n",
    "\n",
    "# obj1 = person()\n",
    "obj1 = person('Ujjwol') # A.__init__(onj1, 'Ujjwol')\n",
    "obj1.hello()\n",
    "\n",
    "# note: in self object will go "
   ]
  },
  {
   "cell_type": "code",
   "execution_count": null,
   "metadata": {},
   "outputs": [],
   "source": []
  }
 ],
 "metadata": {
  "interpreter": {
   "hash": "f9a665eed82786d1db64405b5cfd0f8037f4571b806793cb1072a84e044fc7ff"
  },
  "kernelspec": {
   "display_name": "Python 3.9.6 64-bit",
   "language": "python",
   "name": "python3"
  },
  "language_info": {
   "codemirror_mode": {
    "name": "ipython",
    "version": 3
   },
   "file_extension": ".py",
   "mimetype": "text/x-python",
   "name": "python",
   "nbconvert_exporter": "python",
   "pygments_lexer": "ipython3",
   "version": "3.9.6"
  },
  "orig_nbformat": 4
 },
 "nbformat": 4,
 "nbformat_minor": 2
}
