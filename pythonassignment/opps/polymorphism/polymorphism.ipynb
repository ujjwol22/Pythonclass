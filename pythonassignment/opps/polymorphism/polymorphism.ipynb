{
 "cells": [
  {
   "cell_type": "code",
   "execution_count": 1,
   "metadata": {},
   "outputs": [
    {
     "name": "stdout",
     "output_type": "stream",
     "text": [
      "5\n",
      "10\n",
      "20\n"
     ]
    }
   ],
   "source": [
    "# same function name but different type is polymorphism\n",
    "def add(x, y, z=0, a = 0):\n",
    "    return x + y + z + a\n",
    "print(add(2,3))\n",
    "print(add(1, 5, 4))\n",
    "print(add(1, 5, 4, 10))"
   ]
  },
  {
   "cell_type": "code",
   "execution_count": 2,
   "metadata": {},
   "outputs": [
    {
     "name": "stdout",
     "output_type": "stream",
     "text": [
      "6\n",
      "3\n"
     ]
    }
   ],
   "source": [
    "# Python program to demonstrate in-built poly-\n",
    "# morphic functions\n",
    "# len() being used for a string\n",
    "print(len(\"python\"))\n",
    "# len() being used for a list\n",
    "print(len([10, 20, 30]))"
   ]
  }
 ],
 "metadata": {
  "interpreter": {
   "hash": "5fcbe73ffa2387175b8deeacaf6fbe2dad8bf737d9c90fd4b7dd07d3523b62cd"
  },
  "kernelspec": {
   "display_name": "Python 3.9.6 32-bit",
   "language": "python",
   "name": "python3"
  },
  "language_info": {
   "codemirror_mode": {
    "name": "ipython",
    "version": 3
   },
   "file_extension": ".py",
   "mimetype": "text/x-python",
   "name": "python",
   "nbconvert_exporter": "python",
   "pygments_lexer": "ipython3",
   "version": "3.9.6"
  },
  "orig_nbformat": 4
 },
 "nbformat": 4,
 "nbformat_minor": 2
}
